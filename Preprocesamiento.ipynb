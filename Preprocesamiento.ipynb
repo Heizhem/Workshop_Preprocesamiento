{
 "cells": [
  {
   "cell_type": "markdown",
   "metadata": {},
   "source": [
    "![HenryLogo](https://d31uz8lwfmyn8g.cloudfront.net/Assets/logo-henry-white-lg.png)"
   ]
  },
  {
   "cell_type": "markdown",
   "metadata": {},
   "source": [
    "## **Preprocesamiento de datos**\n",
    "\n",
    "Uno de los estadios más importantes en el flujo de trabajo de un data scientist. Suele demandar, en promedio, entre el 60% y el 70% de nuestro tiempo. La distinción entre un buen y un mal modelo de Machine Learning, antes que por la elección de un algoritmo específico, estará dada por un correcto preprocesamiento de datos.\n",
    "\n",
    "> ### *\"Garbage in, garbage out\"*\n",
    "\n",
    "Si queremos un modelo predictivo de calidad, debemos darle datos de calidad. Podemos elegir el algoritmo más sofisticado y complejo, optimizar los hiperparámetros tratando de encontrar las mejores combinaciones posibles, pero si al modelo lo alimentamos con datos que carecen de sentido, no podemos esperar que sus predicciones sí lo tengan.\n",
    "\n",
    "### `Etapas`:\n",
    "\n",
    "1. Valores faltantes\n",
    "\n",
    "1. Valores atípicos\n",
    "\n",
    "3. Escalado/normalización\n",
    "\n",
    "4. Codificación de variables categóricas\n",
    "\n",
    "5. Selección de atributos relevantes\n",
    "\n",
    "6. Ingeniería de features\n",
    "\n",
    "- - -"
   ]
  },
  {
   "cell_type": "markdown",
   "metadata": {},
   "source": [
    "### **1. Valores faltantes**\n",
    "\n",
    "Generalmente, y de manera errónea, lo primero que buscamos responder en esta estapa es ¿qué técnica utilizo para imputar los valores faltantes del dataset? o ¿qué porcentaje de valores faltantes es suficiente para dropear esas filas?\n",
    "\n",
    "El proceso que debemos seguir arranca con una pregunta inicial bastante diferente y trascendental en todo lo que devenga.\n",
    "\n",
    "**`¿Por qué hay valores faltantes?`**\n",
    "\n",
    "Para responder esta pregunta, tenemos tres grandes paradigmas bien diferenciados que nos darán una noción del escenario en que estamos situados.\n",
    "\n",
    "+ MCAR\n",
    "\n",
    "+ MAR\n",
    "\n",
    "+ MNAR\n",
    "\n",
    "#### **`MCAR`**\n",
    "\n",
    "*Missing Completely At Random*.\n",
    "\n",
    "La probabilidad de tener un dato faltante es la misma para todas las instancias. La causa de los datos que faltan no está relacionada directamente con los datos.\n",
    "\n",
    "Ejemplo: fallas en el instrumento de medición o errores en la carga de los datos. Supongamos el caso de un encuestador que visita hogares para completar un cuestionario con preguntas cerradas. Recibe las respuestas, por parte del encuestado, de cada pregunta que va realizando, pero se olvida de marcar el casillero correspondiente en alguna pregunta. Cuando esos datos sean cargados en el sistema, tendremos valores faltantes en esos campos donde el encuestador cometió el error de no indicar la respuesta del encuestado. En efecto, la falta de valores en algunos campos no responde a ninguna razón que se desprenda de los datos o las preguntas realizadas -podría pasar que algunas preguntas sean evitadas adrede por los encuestados por connotaciones sociales, políticas, etc.- sino por cuestiones completamente azarosas.\n",
    "\n",
    "#### **`MAR`**\n",
    "\n",
    "*Missing At Random*. Si la probabilidad de que falten datos es la misma solo dentro de los grupos definidos por los datos observados, entonces los datos faltan al azar. La causa de los datos que faltan está relacionada con otras variables.\n",
    "\n",
    "Ejemplo: un encuestador realiza una EPH (Encuesta Permanente de Hogares). Se observa que varios encuestados no responden ante la pregunta de cuánto es su salario o remuneración laboral percibida. Al observar la totalidad de los datos finales de nuestro dataset, notamos que la mayoría de los valores faltantes en este campo -**salario**- están directamente relacionados con el barrio al que pertenece el encuestado. Entonces, podemos determinar que, si la encuesta se realiza en CABA, los ciudadanos de los barrios más pudientes (Recoleta, Palermo, Belgrano o Puerto Madero) indican cuánto es su salario -casi en todos los casos superior a la media de CABA- en una EPH. Por el contrario, los encuestados ubicados en barrios marginales no responden esa pregunta de la encuesta. \n",
    "\n",
    "Para pensar, una técnica que consista en imputar los valores faltantes del campo **salario** con alguna medida de tendencia central, como la media, ¿distorsionaría nuestros datos? ¿afectaría la representatividad?\n",
    "\n",
    "Este tipo de faltantes se presenta con más frecuencia que el caso visto anteriormente.\n",
    "\n",
    "#### **`MNAR`**\n",
    "\n",
    "*Missing Not At Random*. Se llega a este caso por descarte, cuando la presencia de valores faltantes en nuestro dataset no responde a ninguno de los dos paradigmas enunciados supra. Es el caso más complejo de identificar. A grandes rasgos, este tipo de valores nulos pueden responder a dos razones:\n",
    "\n",
    "1. El motivo de esta ausencia de valores se relaciona con datos no observados -es común que, en ensayos clínicos, si un tratamiento particular causa molestias, los pacientes son más propensos a abandonar el estudio, y dado que se busca medir la eficacia de cada tratamiento, tenemos faltantes no aleatorios.\n",
    "\n",
    "2. La ausencia de valores responde directamente a la variable que queremos medir -cuando indicábamos que un encuestado evita responder una pregunta por la incomodidad que ella pueda generarle-. \n",
    "\n",
    "*Resumen:*\n",
    "\n",
    "<img src = \"https://cjasn.asnjournals.org/content/clinjasn/early/2014/02/06/CJN.10141013/F2.large.jpg?width=800&height=600&carousel=1\" height = 200>\n",
    "\n",
    "Ahora sí, veamos las técnicas que existen para lidiar con los valores faltantes.\n",
    "\n",
    "De lo visto recientemente respecto a los diversos mecanismos que pueden generar faltantes en nuestro dataset, se desprende que la estrategia utilizada para tratar esos faltantes estará, en gran medida, condicionada por la razón de que esos valores sean, precisamente, nulos. Es decir, el mecanismo que los está generando.\n",
    "\n",
    "### **¿Qué hacemos con los valores faltantes?**\n",
    "\n",
    "+ ***Eliminar los datos con problemas***: por fila -puede sesgar el resultado-. Por columna -podemos perder información relevante-.\n",
    "\n",
    "+ ***Imputación***: rellenamos con estadísticos obtenidos de los datos que sí tenemos. También se puede imputar teniendo en cuenta los valores de otros atributos -por ejemplo, en vez de imputar los faltantes del campo salario con la media total, lo hacemos con la media de cada barrio-. Otra posibilidad, para realizar la imputación, es elaborar un modelo de Machine Learning, que prediga el valor de ese dato faltante.\n",
    "\n",
    "+ ***Agregar una variable dummy***: por atributo, para indicar si hay un valor faltante. Esa variable nos indica si ese dato es imputado.\n",
    "\n",
    "\n",
    "- - -\n"
   ]
  },
  {
   "cell_type": "markdown",
   "metadata": {},
   "source": [
    "### **2. Valores atípicos**\n",
    "\n",
    "También denominados outliers o valores extremos. Son aquellos datos que difieren significativamente del resto de las observaciones. \n",
    "\n",
    "**`¿Por qué existen?`**\n",
    "\n",
    "+ Error del instrumento de medición\n",
    "\n",
    "+ Mezcla de distribuciones\n",
    "\n",
    "Un ejemplo del primer caso podría darse cuando se ingresa incorrectamente un valor a la hora de ser cargado. Mientras que el segundo caso se presenta cuando se trabaja con muestras o subpoblaciones que no son tan homogéneas como se creía a priori.\n",
    "\n",
    "Existe la posibilidad de que nos topemos con valores atípicos que no se inserten dentro de los dos casos enunciados. Allí, considerarlo o no como extremos, dependerá del problema con el que estemos tratando.\n",
    "\n",
    "En algunas oportunidades, detectar valores outliers será precisamente nuestro objetivo. Un ejemplo de ello puede ser la detección de una transacción fraudulenta con tarjeta de crédito o la identificación de una persona enferma dentro de un conjunto de personas sanas.\n",
    "\n",
    "Tenemos dos tipos de outliers: `univariado` y `multivariado`. El primer tipo se da cuando el outlier se desvía de los valores típicos de un feature. El segundo, cuando el outlier se desvía de los valores típicos que hay en la relación entre dos o más features.\n",
    "\n",
    "**`¿Cómo detectarlos?`**\n",
    "\n",
    "+ Visualización\n",
    "\n",
    "+ IQR\n",
    "\n",
    "+ 3σ \n",
    "\n",
    "Para detectar estos valores atípicos, podemos recurrir a las visualizaciones -a través de boxplots-, al rango intercuartílico o a la regla de las tres sigmas."
   ]
  },
  {
   "cell_type": "markdown",
   "metadata": {},
   "source": [
    "- - -\n",
    "\n",
    "### **3. Escalado/normalización**\n",
    "\n",
    "Es probable que, en nuestro dataset, contemos con distintas variables, medidas en diferentes unidades y con distintas escalas. Esto puede confundir a los modelos de ML, ya que no entienden de unidades. En especial, a los modelos que trabajan con distancias -como KNN-. Para evitar esto, recurrimos al escalado de datos.\n",
    "\n",
    "Disponemos de tres formas para realizar el escalado:\n",
    "\n",
    "+ Escalado mínimo-máximo: se emplea cuando nuestra variable puede tomar valores entre un mínimo y un máximo bien delimitados.\n",
    "\n",
    "+ Z-score: también conocido como estandarización o normalización. Es la técnica más empleada. Es una medida de cuán lejos está un dato del promedio, medido en desviación estándar. También sirve para aplicar la regla de las 3 sigmas para detectar outliers, aplicando la máscara $|Z| > 3$.\n",
    "\n",
    "+ Escalados no lineales: se usa cuando el atributo no sigue una distribución lineal. En el caso de una distribución que siga una *ley de potencias*, se toma el logaritmo de los valores. Otro método es tomar la raíz cuadrada.\n",
    "\n",
    "\n"
   ]
  }
 ],
 "metadata": {
  "kernelspec": {
   "display_name": "Python 3.9.12 ('base')",
   "language": "python",
   "name": "python3"
  },
  "language_info": {
   "name": "python",
   "version": "3.9.12"
  },
  "orig_nbformat": 4,
  "vscode": {
   "interpreter": {
    "hash": "634b189ffb04760e4d9c938c0422d278afb6e6e9858a0e6f9e273ab614bdcee1"
   }
  }
 },
 "nbformat": 4,
 "nbformat_minor": 2
}
